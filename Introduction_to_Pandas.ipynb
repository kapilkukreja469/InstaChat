{
  "nbformat": 4,
  "nbformat_minor": 0,
  "metadata": {
    "kernelspec": {
      "display_name": "Python 3",
      "language": "python",
      "name": "python3"
    },
    "language_info": {
      "codemirror_mode": {
        "name": "ipython",
        "version": 3
      },
      "file_extension": ".py",
      "mimetype": "text/x-python",
      "name": "python",
      "nbconvert_exporter": "python",
      "pygments_lexer": "ipython3",
      "version": "3.7.1"
    },
    "colab": {
      "provenance": [],
      "collapsed_sections": [
        "xh3KplZjOWH-",
        "gb-LmR2oVX8_",
        "VpWoJh0JWg46",
        "9ZZln2kIW8xK",
        "nTHu4WNDcUU9",
        "ydCFb8tOfND3"
      ],
      "include_colab_link": true
    }
  },
  "cells": [
    {
      "cell_type": "markdown",
      "metadata": {
        "id": "view-in-github",
        "colab_type": "text"
      },
      "source": [
        "<a href=\"https://colab.research.google.com/github/kapilkukreja469/InstaChat/blob/master/Introduction_to_Pandas.ipynb\" target=\"_parent\"><img src=\"https://colab.research.google.com/assets/colab-badge.svg\" alt=\"Open In Colab\"/></a>"
      ]
    },
    {
      "cell_type": "markdown",
      "metadata": {
        "id": "_eju2_y_xsTs"
      },
      "source": [
        "## **Pandas is a Python package providing fast, flexible, and expressive data structures designed to make working with structured (tabular, multidimensional, potentially heterogeneous) and time series data both easy and intuitive. It aims to be the fundamental high-level building block for doing practical, real world data analysis in Python.**"
      ]
    },
    {
      "cell_type": "markdown",
      "metadata": {
        "id": "jtHiKY2kZsRZ"
      },
      "source": [
        "* ## <b><code>info()</code></b>\n",
        "\n",
        "#### Prints the basic information about our dataframe"
      ]
    }
  ]
}